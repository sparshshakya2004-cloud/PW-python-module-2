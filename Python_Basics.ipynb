{
  "nbformat": 4,
  "nbformat_minor": 0,
  "metadata": {
    "colab": {
      "provenance": []
    },
    "kernelspec": {
      "name": "python3",
      "display_name": "Python 3"
    },
    "language_info": {
      "name": "python"
    }
  },
  "cells": [
    {
      "cell_type": "markdown",
      "source": [
        "**Python Basics**\n",
        "\n",
        "Q What is Python, and why is it popular ?\n",
        "- Python is a versatile, high-level programming language known for its simple, readable syntax. Python's design emphasizes code readability, which, along with its extensive ecosystem, has made it one of the most popular programming languages in the world. It is used for web development, data science, artificial intelligence, and task automation.\n",
        "\n",
        "Q What is an interpreter in Python ?\n",
        "- A Python interpreter is a program that reads and executes your Python code line by line.\n",
        "\n",
        "Q What are pre-defined keywords in Python ?\n",
        "- Pre-defined keywords in Python are reserved words with special meanings that the interpreter uses to understand the structure and syntax of the code.\n",
        "\n",
        "Q Can keywords be used as variable names ?\n",
        "- No, you cannot use pre-defined keywords as variable names in Python.\n",
        "\n",
        "Q What is mutability in Python ?\n",
        "- mutability is the ability of an object to be changed after it is created\n",
        "\n",
        "Q Why are lists mutable, but tuples are immutable\n",
        "- Lists and tuples have different mutability because they are designed for different purposes, which affects their performance, memory usage, and common applications.\n",
        "\n",
        "Q What is the difference between “==” and “is” operators in Python\n",
        "- In Python, == and is are two different comparison operators.\n",
        "  - The == operator compares the values of two objects. It evaluates whether the values of the two objects are the same.\n",
        "  - The is operator compares the identities of two objects. It evaluates whether two variables point to the exact same object in memory.\n",
        "\n",
        "Q What are logical operators in Python ?\n",
        "- Logical operators are used to combine conditional statements and return a Boolean value (True or False).\n",
        "\n",
        "Q  What is type casting in Python ?\n",
        "- Type casting means converting one data type into another.\n",
        "It helps ensure compatibility between values or perform specific operations.\n",
        "\n",
        "Q  What is the difference between implicit and explicit type casting ?\n",
        "- Implicit Type Casting\n",
        "  - Automatically done by Python .\n",
        "  - Example = x = 5; y = 2.0; z = x + y # x becomes float automatically\n",
        "- Explicit Type Casting\n",
        "  - Manually converting using functions like int(),str() etc.\n",
        "  - x = \"5\"; y = int(x)\n",
        "\n",
        "Q  What is the purpose of conditional statements in Python ?\n",
        "- The purpose of conditional statements in Python is to control the flow of a program by executing specific blocks of code only when a certain condition is met.\n",
        "\n",
        "Q How does the elif statement work\n",
        "- The elif statement checks multiple conditions sequentially.\n",
        "If one condition is true, the rest are skipped.\n",
        "\n",
        "Q What is the difference between for and while loops\n",
        "-  For loop\n",
        "   - Repeats a block of code a specific number of times.\n",
        "- While loop\n",
        "  - Repeats a block while a condition is true.\n",
        "\n",
        "Q  Describe a scenario where a while loop is more suitable than a for loop.\n",
        "- A while loop is more suitable when you don’t know in advance how many times you need to repeat a block of code its run untill when the certian condition is false\n"
      ],
      "metadata": {
        "id": "UUApytzHvNux"
      }
    },
    {
      "cell_type": "markdown",
      "source": [
        "**Practical Questions**"
      ],
      "metadata": {
        "id": "0W57dVF32uwX"
      }
    },
    {
      "cell_type": "code",
      "source": [
        "# 1 Write a Python program to print \"Hello, World!y\n",
        "\n",
        "print(\"hello World\")"
      ],
      "metadata": {
        "colab": {
          "base_uri": "https://localhost:8080/"
        },
        "id": "cRo1q3HZ2kW0",
        "outputId": "d0e25df3-c2b8-41c5-8eba-744e3af59c5b"
      },
      "execution_count": null,
      "outputs": [
        {
          "output_type": "stream",
          "name": "stdout",
          "text": [
            "hello World\n"
          ]
        }
      ]
    },
    {
      "cell_type": "code",
      "execution_count": null,
      "metadata": {
        "colab": {
          "base_uri": "https://localhost:8080/"
        },
        "id": "lkwkwd_EvLSW",
        "outputId": "3328b689-76f2-4dfb-9bb2-8828528689bd"
      },
      "outputs": [
        {
          "output_type": "stream",
          "name": "stdout",
          "text": [
            "Enter the Name : sparhs shakya \n",
            "Enter the Age : 21\n",
            "My Name is :  sparhs shakya \n",
            "My Age is :  21\n"
          ]
        }
      ],
      "source": [
        "# 2 Write a Python program that displays your name and age\n",
        "name = input(\"Enter the Name : \")\n",
        "age = int(input(\"Enter the Age : \"))\n",
        "print(\"My Name is : \",name)\n",
        "print(\"My Age is : \",age)\n"
      ]
    },
    {
      "cell_type": "code",
      "source": [
        "# 3 Write code to print all the pre-defined keywords in Python using the keyword library\n",
        "import keyword\n",
        "print(keyword.kwlist)"
      ],
      "metadata": {
        "colab": {
          "base_uri": "https://localhost:8080/"
        },
        "id": "buoNAHyb3g8Y",
        "outputId": "ad465de7-2fa3-4079-8b42-db026d13e331"
      },
      "execution_count": null,
      "outputs": [
        {
          "output_type": "stream",
          "name": "stdout",
          "text": [
            "['False', 'None', 'True', 'and', 'as', 'assert', 'async', 'await', 'break', 'class', 'continue', 'def', 'del', 'elif', 'else', 'except', 'finally', 'for', 'from', 'global', 'if', 'import', 'in', 'is', 'lambda', 'nonlocal', 'not', 'or', 'pass', 'raise', 'return', 'try', 'while', 'with', 'yield']\n"
          ]
        }
      ]
    },
    {
      "cell_type": "code",
      "source": [
        "#4 Write a program that checks if a given word is a Python keyword.\n",
        "import keyword\n",
        "word = input(\"Enter the word to check the \")\n",
        "Py_keyword = keyword.kwlist\n",
        "\n",
        "if word in Py_keyword :\n",
        "  print(\"it a keyword of python \")\n",
        "else:\n",
        "  print(\"it is not a keyword of python\")"
      ],
      "metadata": {
        "id": "yEwozPuI3333",
        "colab": {
          "base_uri": "https://localhost:8080/"
        },
        "outputId": "a06cf61a-51be-480f-bae5-d0bb5f4725dd"
      },
      "execution_count": null,
      "outputs": [
        {
          "output_type": "stream",
          "name": "stdout",
          "text": [
            "Enter the word to check the def\n",
            "it a keyword of python \n"
          ]
        }
      ]
    },
    {
      "cell_type": "code",
      "source": [
        "# 5. Create a list and tuple in Python, and demonstrate how attempting to change an element works differently for each.\n",
        "tuple = (10,20,30,40)\n",
        "list = [10,20,30,40]\n",
        "\n",
        "print(\"Original tuple:\",tuple)\n",
        "print(\"Original list:\",list)\n",
        "\n",
        "\n",
        "try:\n",
        "  tuple[1] = 90\n",
        "except TypeError as e:\n",
        "  print(\"ERROR found\")\n",
        "  print(e)\n",
        "list[1] = 90\n",
        "\n",
        "\n",
        "print(\"Updated tuple:\",tuple)\n",
        "print(\"Updated list:\",list)\n"
      ],
      "metadata": {
        "id": "yRuB9Qn-mgxS"
      },
      "execution_count": null,
      "outputs": []
    },
    {
      "cell_type": "code",
      "source": [
        "# 6. Write a function to demonstrate the behavior of mutable and immutable arguments\n",
        "\n",
        "def modify(x, y):\n",
        "    x = x + 10\n",
        "    y.append(4)\n",
        "    print(\"Inside function:\")\n",
        "    print(\"x =\", x)\n",
        "    print(\"y =\", y)\n",
        "\n",
        "a = 5\n",
        "b = [1, 2, 3]\n",
        "\n",
        "modify(a, b)\n",
        "print(\"\\nOutside function:\")\n",
        "print(\"a =\", a)\n",
        "print(\"b =\", b)\n"
      ],
      "metadata": {
        "id": "j6t8zUJK4d_D"
      },
      "execution_count": null,
      "outputs": []
    },
    {
      "cell_type": "code",
      "source": [
        "# 7. Write a program that performs basic arithmetic operations on two user-input numbers.\n",
        "\n",
        "num1 = int(input(\"Enter the first Number : \"))\n",
        "num2 = int(input(\"Enter the second number \"))\n",
        "\n",
        "add = num1 + num2\n",
        "sub = num1 - num2\n",
        "mul = num1 * num2\n",
        "div = num1 / num2\n",
        "power = num1 ** num2\n",
        "mod = num1 % num2\n",
        "\n",
        "print(\"Addition : \",add)\n",
        "print(\"Subtraction : \",sub)\n",
        "print(\"Multiplication : \",mul)\n",
        "print(\"Division : \",div)\n",
        "print(\"Power : \",power)\n",
        "print(\"Modulus : \",mod)\n"
      ],
      "metadata": {
        "colab": {
          "base_uri": "https://localhost:8080/"
        },
        "id": "RgkAp7a16594",
        "outputId": "32a83bb4-df59-48c3-dd36-d820d42caf41"
      },
      "execution_count": null,
      "outputs": [
        {
          "output_type": "stream",
          "name": "stdout",
          "text": [
            "Enter the first Number : 4\n",
            "Enter the second number 2\n",
            "Addition :  6\n",
            "Subtraction :  2\n",
            "Multiplication :  8\n",
            "Division :  2.0\n",
            "Power :  16\n",
            "Modulus :  0\n"
          ]
        }
      ]
    },
    {
      "cell_type": "code",
      "source": [
        "# 8. Write a program to demonstrate the use of logical operators.\n",
        "\n",
        "\n",
        "age = int(input(\"Enter your age: \"))\n",
        "id_card = input(\"Do you have college ID (yes/no): \")\n",
        "\n",
        "\n",
        "if age >= 18 and id_card.lower() == \"yes\": # and operator\n",
        "    print(\"You are eligible for the offer\")\n",
        "\n",
        "\n",
        "elif age < 12 or age > 60: # or operator\n",
        "    print(\"You are eligible for the offer\")\n",
        "\n",
        "\n",
        "if not age < 18:\n",
        "    print(\"Maybe you get the offer : \") # not operator\n"
      ],
      "metadata": {
        "id": "PeirzDk68N3J",
        "colab": {
          "base_uri": "https://localhost:8080/"
        },
        "outputId": "0805a5dc-2a47-42c8-9e64-20c83b9017a0"
      },
      "execution_count": 3,
      "outputs": [
        {
          "name": "stdout",
          "output_type": "stream",
          "text": [
            "Enter your age15\n",
            "Do you have collge id (yes/no) :yes\n"
          ]
        }
      ]
    },
    {
      "cell_type": "code",
      "source": [
        "# 9. Write a Python program to convert user input from string to integer, float, and boolean types.\n",
        "\n",
        "num = input(\"Enter the number : \")\n",
        "\n",
        "print(\"initial input type : \",type(num))\n",
        "\n",
        "num = int(num)\n",
        "print(\"Converted to INT : \",type(num))\n",
        "\n",
        "num = float(num)\n",
        "print(\"Converted to Float : \",type(num))\n",
        "\n",
        "num = bool(num)\n",
        "print(\"Converted to Boolean : \",type(num))"
      ],
      "metadata": {
        "colab": {
          "base_uri": "https://localhost:8080/"
        },
        "id": "TIWsQwSwoMm4",
        "outputId": "1a6abc39-2348-4f95-c02d-07313986db35"
      },
      "execution_count": 12,
      "outputs": [
        {
          "output_type": "stream",
          "name": "stdout",
          "text": [
            "Enter the number5\n",
            "initial input type :  <class 'str'>\n",
            "Converted to INT :  <class 'int'>\n",
            "Converted to Float :  <class 'float'>\n",
            "Converted to Boolean :  <class 'bool'>\n"
          ]
        }
      ]
    },
    {
      "cell_type": "code",
      "source": [
        "# 10. Write code to demonstrate type casting with list elements.\n",
        "\n",
        "\n",
        "num_list = [\"10\", \"20\", \"30\", \"40\"] # List of string numbers\n",
        "\n",
        "print(\"Original list:\", num_list)\n",
        "\n",
        "for i in num_list:\n",
        " print(\"Type of element in Original list:\", type(i))\n",
        "\n",
        "\n",
        "int_list =[]\n",
        "for i in num_list:\n",
        "  int_list.append(int(i))\n",
        "\n",
        "print(\"After type casting to integers:\", int_list)\n",
        "\n",
        "for i in int_list:\n",
        " print(\"Type of element in int_list:\", type(i))\n",
        "\n"
      ],
      "metadata": {
        "colab": {
          "base_uri": "https://localhost:8080/"
        },
        "id": "yXUDdJ1ZqUo9",
        "outputId": "ed7c5c55-24cc-4252-b4fe-6ef678abb439"
      },
      "execution_count": 17,
      "outputs": [
        {
          "output_type": "stream",
          "name": "stdout",
          "text": [
            "Original list: ['10', '20', '30', '40']\n",
            "Type of element in Original list: <class 'str'>\n",
            "Type of element in Original list: <class 'str'>\n",
            "Type of element in Original list: <class 'str'>\n",
            "Type of element in Original list: <class 'str'>\n",
            "After type casting to integers: [10, 20, 30, 40]\n",
            "Type of element in int_list: <class 'int'>\n",
            "Type of element in int_list: <class 'int'>\n",
            "Type of element in int_list: <class 'int'>\n",
            "Type of element in int_list: <class 'int'>\n"
          ]
        }
      ]
    },
    {
      "cell_type": "code",
      "source": [
        "# 11. Write a program that checks if a number is positive, negative, or zero.\n",
        "num = int(input(\"Enter the number : \"))\n",
        "\n",
        "if num > 0:\n",
        "  print(\"Number is Positive\")\n",
        "elif num < 0:\n",
        "  print(\"Number is Negative\")\n",
        "else:\n",
        "  print(\"Number is Zero\")"
      ],
      "metadata": {
        "colab": {
          "base_uri": "https://localhost:8080/"
        },
        "id": "9H-f18NbtFCL",
        "outputId": "6595c296-32de-413f-95fa-89d94b03188f"
      },
      "execution_count": 19,
      "outputs": [
        {
          "output_type": "stream",
          "name": "stdout",
          "text": [
            "Enter the number : -5\n",
            "Number is Negative\n"
          ]
        }
      ]
    },
    {
      "cell_type": "code",
      "source": [
        "# 12. Write a for loop to print numbers from 1 to 10.\n",
        "\n",
        "for i in range(1,11):\n",
        "  print(i)"
      ],
      "metadata": {
        "colab": {
          "base_uri": "https://localhost:8080/"
        },
        "id": "cdUfXYX0tZnt",
        "outputId": "62ebc5e4-b57b-40a0-af63-0113c2852ef8"
      },
      "execution_count": 24,
      "outputs": [
        {
          "output_type": "stream",
          "name": "stdout",
          "text": [
            "1\n",
            "2\n",
            "3\n",
            "4\n",
            "5\n",
            "6\n",
            "7\n",
            "8\n",
            "9\n",
            "10\n"
          ]
        }
      ]
    },
    {
      "cell_type": "code",
      "source": [
        "# 13. Write a Python program to find the sum of all even numbers between 1 and 50\n",
        "total = 0\n",
        "\n",
        "for i in range(1,51):\n",
        "  if i % 2 == 0: #checking number even or odd\n",
        "    total += i\n",
        "print(\"the sum of 1 to 50 : \",total)"
      ],
      "metadata": {
        "colab": {
          "base_uri": "https://localhost:8080/"
        },
        "id": "p4FP0vxvuCln",
        "outputId": "e6465487-78eb-4519-8f00-7e3ace84b705"
      },
      "execution_count": 27,
      "outputs": [
        {
          "output_type": "stream",
          "name": "stdout",
          "text": [
            "the sum of 1 to 50 :  650\n"
          ]
        }
      ]
    },
    {
      "cell_type": "code",
      "source": [
        "# 14. Write a program to reverse a string using a while loop.\n",
        "text = input(\"Enter a string: \")\n",
        "reversed_text = \"\"\n",
        "i = len(text) - 1   # Start from the last index\n",
        "\n",
        "while i >= 0:\n",
        "    reversed_text += text[i]   # Add each character from end to start\n",
        "    i -= 1                     # Move backward\n",
        "\n",
        "print(\"Reversed string:\", reversed_text)\n"
      ],
      "metadata": {
        "colab": {
          "base_uri": "https://localhost:8080/"
        },
        "id": "gGJf-WR_voWA",
        "outputId": "19b6f17e-2791-4d62-d222-b769e01d4a4f"
      },
      "execution_count": 28,
      "outputs": [
        {
          "output_type": "stream",
          "name": "stdout",
          "text": [
            "Enter a string: sparsh\n",
            "Reversed string: hsraps\n"
          ]
        }
      ]
    },
    {
      "cell_type": "code",
      "source": [
        "# 15. Write a Python program to calculate the factorial of a number provided by the user using a while loop.\n",
        "\n",
        "num = int(input(\"Enter a number: \"))\n",
        "factorial = 1\n",
        "i = 1\n",
        "\n",
        "while i <= num:\n",
        "    factorial *= i\n",
        "    i += 1\n",
        "\n",
        "print(f\"The factorial of {num} is {factorial}\")"
      ],
      "metadata": {
        "colab": {
          "base_uri": "https://localhost:8080/"
        },
        "id": "vox28uFrwjv0",
        "outputId": "c292e276-3c81-4569-c5bd-b7bb08615d63"
      },
      "execution_count": 29,
      "outputs": [
        {
          "output_type": "stream",
          "name": "stdout",
          "text": [
            "Enter a number: 5\n",
            "The factorial of 5 is 120\n"
          ]
        }
      ]
    }
  ]
}